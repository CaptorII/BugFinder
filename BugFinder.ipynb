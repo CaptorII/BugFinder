{
 "cells": [
  {
   "attachments": {},
   "cell_type": "markdown",
   "metadata": {},
   "source": [
    "# Assessment 1: BugFinder\n",
    "### Intro\n",
    "This notebook is to be the record of completion for Assessment 1: Machine Learning.\n",
    "### Objective\n",
    "Automate identification of insects in real-time using a pre-trained image classification model and camera robot."
   ]
  },
  {
   "cell_type": "code",
   "execution_count": null,
   "metadata": {},
   "outputs": [],
   "source": []
  }
 ],
 "metadata": {
  "language_info": {
   "name": "python"
  },
  "orig_nbformat": 4
 },
 "nbformat": 4,
 "nbformat_minor": 2
}
